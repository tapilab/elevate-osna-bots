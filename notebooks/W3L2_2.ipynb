{
 "cells": [
  {
   "cell_type": "code",
   "execution_count": 1,
   "metadata": {},
   "outputs": [],
   "source": [
    "from collections import Counter\n",
    "import numpy as np\n",
    "import pandas as pd\n",
    "import re\n",
    "import glob\n",
    "import gzip\n",
    "import json\n",
    "from sklearn.linear_model import LogisticRegression\n",
    "from sklearn.feature_extraction import DictVectorizer"
   ]
  },
  {
   "cell_type": "code",
   "execution_count": 2,
   "metadata": {},
   "outputs": [],
   "source": [
    "def tweet_tokenizer(s):\n",
    "    s = re.sub(r'#(\\S+)', r'HASHTAG_\\1', s)\n",
    "    s = re.sub(r'@(\\S+)', r'MENTION_\\1', s)\n",
    "    s = re.sub(r'http\\S+', 'THIS_IS_A_URL', s)\n",
    "    return re.sub('\\W+', ' ', s.lower()).split()"
   ]
  },
  {
   "cell_type": "code",
   "execution_count": 11,
   "metadata": {},
   "outputs": [
    {
     "name": "stdout",
     "output_type": "stream",
     "text": [
      "most common phrases of three words for user :\n",
      "{1: [('you heard me', 7)], 2: [('my unusual form', 18)], 3: [('you ll never', 46)], 4: [('you ll never', 46)], 5: [('thanks for the', 143)], 6: [('thanks for the', 143)], 7: [('thanks for the', 143)], 8: [('hashtag_premiosmtvmiaw hashtag_mtvbrmusicalanitta hashtag_mtvbrclipebanana', 200)], 9: [('hashtag_premiosmtvmiaw hashtag_mtvbrmusicalanitta hashtag_mtvbrclipebanana', 200)], 10: [('hashtag_premiosmtvmiaw hashtag_mtvbrmusicalanitta hashtag_mtvbrclipebanana', 200)], 11: [('hashtag_premiosmtvmiaw hashtag_mtvbrmusicalanitta hashtag_mtvbrclipebanana', 200)], 12: [('hashtag_premiosmtvmiaw hashtag_mtvbrmusicalanitta hashtag_mtvbrclipebanana', 200)], 13: [('hashtag_premiosmtvmiaw hashtag_mtvbrmusicalanitta hashtag_mtvbrclipebanana', 200)], 14: [('hashtag_premiosmtvmiaw hashtag_mtvbrmusicalanitta hashtag_mtvbrclipebanana', 200)], 15: [('hashtag_premiosmtvmiaw hashtag_mtvbrmusicalanitta hashtag_mtvbrclipebanana', 200)], 16: [('hashtag_premiosmtvmiaw hashtag_mtvbrmusicalanitta hashtag_mtvbrclipebanana', 200)], 17: [('june 01 2019', 226)], 18: [('june 01 2019', 250)], 19: [('june 01 2019', 250)], 20: [('june 01 2019', 250)], 21: [('june 01 2019', 250)], 22: [('june 01 2019', 250)], 23: [('june 01 2019', 250)], 24: [('june 01 2019', 250)], 25: [('june 01 2019', 250)], 26: [('june 01 2019', 250)], 27: [('june 01 2019', 450)], 28: [('june 01 2019', 450)], 29: [('hashtag_premiosmtvmiaw hashtag_mtvbrmusicalanitta hashtag_mtvbrclipebanana', 600)], 30: [('hashtag_premiosmtvmiaw hashtag_mtvbrmusicalanitta hashtag_mtvbrclipebanana', 600)], 31: [('hashtag_premiosmtvmiaw hashtag_mtvbrmusicalanitta hashtag_mtvbrclipebanana', 800)], 32: [('hashtag_premiosmtvmiaw hashtag_mtvbrmusicalanitta hashtag_mtvbrclipebanana', 800)], 33: [('hashtag_premiosmtvmiaw hashtag_mtvbrmusicalanitta hashtag_mtvbrclipebanana', 800)], 34: [('hashtag_premiosmtvmiaw hashtag_mtvbrmusicalanitta hashtag_mtvbrclipebanana', 800)], 35: [('hashtag_premiosmtvmiaw hashtag_mtvbrmusicalanitta hashtag_mtvbrclipebanana', 800)], 36: [('hashtag_premiosmtvmiaw hashtag_mtvbrmusicalanitta hashtag_mtvbrclipebanana', 800)], 37: [('hashtag_premiosmtvmiaw hashtag_mtvbrmusicalanitta hashtag_mtvbrclipebanana', 800)], 38: [('hashtag_premiosmtvmiaw hashtag_mtvbrmusicalanitta hashtag_mtvbrclipebanana', 800)], 39: [('hashtag_premiosmtvmiaw hashtag_mtvbrmusicalanitta hashtag_mtvbrclipebanana', 800)], 40: [('hashtag_premiosmtvmiaw hashtag_mtvbrmusicalanitta hashtag_mtvbrclipebanana', 800)], 41: [('hashtag_premiosmtvmiaw hashtag_mtvbrmusicalanitta hashtag_mtvbrclipebanana', 800)], 42: [('hashtag_premiosmtvmiaw hashtag_mtvbrmusicalanitta hashtag_mtvbrclipebanana', 800)], 43: [('hashtag_premiosmtvmiaw hashtag_mtvbrmusicalanitta hashtag_mtvbrclipebanana', 800)], 44: [('hashtag_premiosmtvmiaw hashtag_mtvbrmusicalanitta hashtag_mtvbrclipebanana', 800)], 45: [('hashtag_premiosmtvmiaw hashtag_mtvbrmusicalanitta hashtag_mtvbrclipebanana', 800)], 46: [('hashtag_premiosmtvmiaw hashtag_mtvbrmusicalanitta hashtag_mtvbrclipebanana', 800)], 47: [('hashtag_premiosmtvmiaw hashtag_mtvbrmusicalanitta hashtag_mtvbrclipebanana', 800)], 48: [('hashtag_premiosmtvmiaw hashtag_mtvbrmusicalanitta hashtag_mtvbrclipebanana', 800)], 49: [('hashtag_premiosmtvmiaw hashtag_mtvbrmusicalanitta hashtag_mtvbrclipebanana', 800)], 50: [('hashtag_premiosmtvmiaw hashtag_mtvbrmusicalanitta hashtag_mtvbrclipebanana', 800)], 51: [('hashtag_premiosmtvmiaw hashtag_mtvbrmusicalanitta hashtag_mtvbrclipebanana', 800)], 52: [('hashtag_premiosmtvmiaw hashtag_mtvbrmusicalanitta hashtag_mtvbrclipebanana', 800)], 53: [('hashtag_premiosmtvmiaw hashtag_mtvbrmusicalanitta hashtag_mtvbrclipebanana', 800)], 54: [('hashtag_premiosmtvmiaw hashtag_mtvbrmusicalanitta hashtag_mtvbrclipebanana', 800)], 55: [('hashtag_premiosmtvmiaw hashtag_mtvbrmusicalanitta hashtag_mtvbrclipebanana', 800)], 56: [('hashtag_premiosmtvmiaw hashtag_mtvbrmusicalanitta hashtag_mtvbrclipebanana', 800)], 57: [('hashtag_premiosmtvmiaw hashtag_mtvbrmusicalanitta hashtag_mtvbrclipebanana', 800)], 58: [('hashtag_premiosmtvmiaw hashtag_mtvbrmusicalanitta hashtag_mtvbrclipebanana', 800)], 59: [('hashtag_premiosmtvmiaw hashtag_mtvbrmusicalanitta hashtag_mtvbrclipebanana', 800)], 60: [('hashtag_premiosmtvmiaw hashtag_mtvbrmusicalanitta hashtag_mtvbrclipebanana', 800)], 61: [('hashtag_premiosmtvmiaw hashtag_mtvbrmusicalanitta hashtag_mtvbrclipebanana', 800)], 62: [('hashtag_premiosmtvmiaw hashtag_mtvbrmusicalanitta hashtag_mtvbrclipebanana', 800)], 63: [('hashtag_premiosmtvmiaw hashtag_mtvbrmusicalanitta hashtag_mtvbrclipebanana', 800)], 64: [('hashtag_premiosmtvmiaw hashtag_mtvbrmusicalanitta hashtag_mtvbrclipebanana', 800)], 65: [('hashtag_premiosmtvmiaw hashtag_mtvbrmusicalanitta hashtag_mtvbrclipebanana', 1000)], 66: [('hashtag_premiosmtvmiaw hashtag_mtvbrmusicalanitta hashtag_mtvbrclipebanana', 1000)], 67: [('hashtag_premiosmtvmiaw hashtag_mtvbrmusicalanitta hashtag_mtvbrclipebanana', 1000)], 68: [('hashtag_premiosmtvmiaw hashtag_mtvbrmusicalanitta hashtag_mtvbrclipebanana', 1000)], 69: [('hashtag_premiosmtvmiaw hashtag_mtvbrmusicalanitta hashtag_mtvbrclipebanana', 1000)], 70: [('hashtag_premiosmtvmiaw hashtag_mtvbrmusicalanitta hashtag_mtvbrclipebanana', 1000)], 71: [('hashtag_premiosmtvmiaw hashtag_mtvbrmusicalanitta hashtag_mtvbrclipebanana', 1000)], 72: [('hashtag_premiosmtvmiaw hashtag_mtvbrmusicalanitta hashtag_mtvbrclipebanana', 1000)], 73: [('hashtag_premiosmtvmiaw hashtag_mtvbrmusicalanitta hashtag_mtvbrclipebanana', 1000)], 74: [('hashtag_premiosmtvmiaw hashtag_mtvbrmusicalanitta hashtag_mtvbrclipebanana', 1000)], 75: [('hashtag_premiosmtvmiaw hashtag_mtvbrmusicalanitta hashtag_mtvbrclipebanana', 1000)], 76: [('hashtag_premiosmtvmiaw hashtag_mtvbrmusicalanitta hashtag_mtvbrclipebanana', 1200)], 77: [('hashtag_premiosmtvmiaw hashtag_mtvbrmusicalanitta hashtag_mtvbrclipebanana', 1200)], 78: [('hashtag_premiosmtvmiaw hashtag_mtvbrmusicalanitta hashtag_mtvbrclipebanana', 1200)], 79: [('hashtag_premiosmtvmiaw hashtag_mtvbrmusicalanitta hashtag_mtvbrclipebanana', 1200)], 80: [('hashtag_premiosmtvmiaw hashtag_mtvbrmusicalanitta hashtag_mtvbrclipebanana', 1200)], 81: [('hashtag_premiosmtvmiaw hashtag_mtvbrmusicalanitta hashtag_mtvbrclipebanana', 1200)], 82: [('hashtag_premiosmtvmiaw hashtag_mtvbrmusicalanitta hashtag_mtvbrclipebanana', 1200)], 83: [('hashtag_premiosmtvmiaw hashtag_mtvbrmusicalanitta hashtag_mtvbrclipebanana', 1200)], 84: [('hashtag_premiosmtvmiaw hashtag_mtvbrmusicalanitta hashtag_mtvbrclipebanana', 1200)], 85: [('hashtag_premiosmtvmiaw hashtag_mtvbrmusicalanitta hashtag_mtvbrclipebanana', 1200)], 86: [('hashtag_premiosmtvmiaw hashtag_mtvbrmusicalanitta hashtag_mtvbrclipebanana', 1200)], 87: [('hashtag_premiosmtvmiaw hashtag_mtvbrmusicalanitta hashtag_mtvbrclipebanana', 1200)], 88: [('hashtag_premiosmtvmiaw hashtag_mtvbrmusicalanitta hashtag_mtvbrclipebanana', 1200)], 89: [('hashtag_premiosmtvmiaw hashtag_mtvbrmusicalanitta hashtag_mtvbrclipebanana', 1200)], 90: [('hashtag_premiosmtvmiaw hashtag_mtvbrmusicalanitta hashtag_mtvbrclipebanana', 1200)], 91: [('hashtag_premiosmtvmiaw hashtag_mtvbrmusicalanitta hashtag_mtvbrclipebanana', 1200)], 92: [('hashtag_premiosmtvmiaw hashtag_mtvbrmusicalanitta hashtag_mtvbrclipebanana', 1200)], 93: [('hashtag_premiosmtvmiaw hashtag_mtvbrmusicalanitta hashtag_mtvbrclipebanana', 1200)], 94: [('hashtag_premiosmtvmiaw hashtag_mtvbrmusicalanitta hashtag_mtvbrclipebanana', 1200)], 95: [('hashtag_premiosmtvmiaw hashtag_mtvbrmusicalanitta hashtag_mtvbrclipebanana', 1200)], 96: [('hashtag_premiosmtvmiaw hashtag_mtvbrmusicalanitta hashtag_mtvbrclipebanana', 1200)], 97: [('hashtag_premiosmtvmiaw hashtag_mtvbrmusicalanitta hashtag_mtvbrclipebanana', 1400)], 98: [('rt rt rt', 5050)], 99: [('rt rt rt', 5050)], 100: [('rt rt rt', 5050)]}\n"
     ]
    }
   ],
   "source": [
    "def load_data(datafile):\n",
    "    \"\"\"\n",
    "    Read your data into a single pandas dataframe where\n",
    "    - each row is an instance to be classified\n",
    "    (this could be a tweet, user, or news article, depending on your project)\n",
    "    - there is a column called `label` which stores the class label (e.g., the true\n",
    "      category for this row)\n",
    "    \"\"\"\n",
    "    bots = []\n",
    "    humans = []\n",
    "    folder = ['/bots', '/humans']\n",
    "    name = '/*.json.gz'\n",
    "    for f in folder:\n",
    "        paths = glob.glob(datafile + f + name)\n",
    "        for p in paths:\n",
    "            with gzip.open(p, 'r') as file:\n",
    "                for line in file:\n",
    "                    if f == folder[0]:\n",
    "                        bots.append(json.loads(line))\n",
    "                    elif f == folder[1]:\n",
    "                        humans.append(json.loads(line))\n",
    "    bots_text = []\n",
    "    d=[]\n",
    "    name=[]\n",
    "    b={}\n",
    "    k=1\n",
    "    for bot in bots:\n",
    "        if 'tweets' in bot:\n",
    "            for tweet in bot['tweets']: \n",
    "                #name.append(tweet[''])\n",
    "                a=tweet_tokenizer(tweet['full_text'])\n",
    "                for i in range(len(a)-2):\n",
    "                    d.append(' '.join(a[i:i+3]))\n",
    "            b[k]=Counter(d).most_common(1)\n",
    "            k=k+1\n",
    "    print(\"most common phrases of three words for user :\")\n",
    "    print(b)\n",
    "a=load_data('\\\\Users\\\\lenovo\\\\Desktop\\\\small')\n",
    "a"
   ]
  },
  {
   "cell_type": "code",
   "execution_count": null,
   "metadata": {},
   "outputs": [],
   "source": []
  }
 ],
 "metadata": {
  "kernelspec": {
   "display_name": "Python 3",
   "language": "python",
   "name": "python3"
  },
  "language_info": {
   "codemirror_mode": {
    "name": "ipython",
    "version": 3
   },
   "file_extension": ".py",
   "mimetype": "text/x-python",
   "name": "python",
   "nbconvert_exporter": "python",
   "pygments_lexer": "ipython3",
   "version": "3.7.1"
  }
 },
 "nbformat": 4,
 "nbformat_minor": 2
}
